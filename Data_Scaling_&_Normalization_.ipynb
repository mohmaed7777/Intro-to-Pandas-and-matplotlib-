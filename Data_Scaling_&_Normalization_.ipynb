{
  "nbformat": 4,
  "nbformat_minor": 0,
  "metadata": {
    "colab": {
      "name": "Data Scaling & Normalization .ipynb",
      "provenance": [],
      "authorship_tag": "ABX9TyOHMJ4C2EKZYLIo1KbYgd5Q",
      "include_colab_link": true
    },
    "kernelspec": {
      "display_name": "Python 3",
      "name": "python3"
    }
  },
  "cells": [
    {
      "cell_type": "markdown",
      "metadata": {
        "id": "view-in-github",
        "colab_type": "text"
      },
      "source": [
        "<a href=\"https://colab.research.google.com/github/mohmaed7777/Intro-to-Pandas-and-matplotlib-/blob/master/Data_Scaling_%26_Normalization_.ipynb\" target=\"_parent\"><img src=\"https://colab.research.google.com/assets/colab-badge.svg\" alt=\"Open In Colab\"/></a>"
      ]
    },
    {
      "cell_type": "markdown",
      "metadata": {
        "id": "ZH9mkqqurIMc"
      },
      "source": [
        "**Get our enviroment set up:**"
      ]
    },
    {
      "cell_type": "code",
      "metadata": {
        "id": "El_8_m3NrRUK",
        "outputId": "b2527f96-5eba-4f0d-9db6-747e6bf9a5ea",
        "colab": {
          "base_uri": "https://localhost:8080/",
          "height": 34
        }
      },
      "source": [
        "# In this notebook we're going to be looking at how to \n",
        "# Scale & normalize data (and what the differences between them)\n",
        "import pandas as pd\n",
        "import numpy as np \n",
        "\n",
        "# for box-cox Transformation \n",
        "from scipy import stats\n",
        "# for min-max scaling : \n",
        "from mlxtend.preprocessing import minmax_scaling\n",
        "\n",
        "# plotting modules\n",
        "import seaborn as sns \n",
        "import matplotlib.pyplot as plt \n",
        "# set seed for reproducibility \n",
        "np.random.seed(0)\n",
        "print(\"Setup Complete!\")"
      ],
      "execution_count": null,
      "outputs": [
        {
          "output_type": "stream",
          "text": [
            "Setup Complete!\n"
          ],
          "name": "stdout"
        }
      ]
    },
    {
      "cell_type": "markdown",
      "metadata": {
        "id": "KWCz8vpFtB5I"
      },
      "source": [
        "# **Scaling**:"
      ]
    },
    {
      "cell_type": "markdown",
      "metadata": {
        "id": "_0O0sxrutO1z"
      },
      "source": [
        "This means that you're transforming your data so that it fits within a specific scale, like 0-100 or 0-1. You want to scale data when you're using methods based on measures of how far apart data points are, like support vector machines (SVM) or k-nearest neighbors (KNN). With these algorithms, a change of \"1\" in any numeric feature is given the same importance.\n",
        "\n",
        "For example, you might be looking at the prices of some products in both Yen and US Dollars. One US Dollar is worth about 100 Yen, but if you don't scale your prices, methods like SVM or KNN will consider a difference in price of 1 Yen as important as a difference of 1 US Dollar! This clearly doesn't fit with our intuitions of the world. With currency, you can convert between currencies. But what about if you're looking at something like height and weight? It's not entirely clear how many pounds should equal one inch (or how many kilograms should equal one meter).\n",
        "\n",
        "By scaling your variables, you can help compare different variables on equal footing. To help solidify what scaling looks like, let's look at a made-up example."
      ]
    },
    {
      "cell_type": "code",
      "metadata": {
        "id": "vRc9IyjBsiBB",
        "outputId": "0abef342-89c1-4361-b3f4-9b37ae197b4c",
        "colab": {
          "background_save": true
        }
      },
      "source": [
        "# generate 1000 data points randomly drawn from an exponential distribution\n",
        "original_data = np.random.exponential(size=1000)\n",
        "# min-max scale the data between 0 and 1 \n",
        "scaled_data = minmax_scaling(original_data, columns=[0])\n",
        "# plot both together to compare \n",
        "fig, ax = plt.subplots(1, 2)\n",
        "sns.distplot(original_data, ax=ax[0])\n",
        "ax[0].set_title(\"Original Data\")\n",
        "sns.distplot(scaled_data, ax=ax[1])"
      ],
      "execution_count": null,
      "outputs": [
        {
          "output_type": "stream",
          "text": [
            "/usr/local/lib/python3.6/dist-packages/seaborn/distributions.py:2551: FutureWarning: `distplot` is a deprecated function and will be removed in a future version. Please adapt your code to use either `displot` (a figure-level function with similar flexibility) or `histplot` (an axes-level function for histograms).\n",
            "  warnings.warn(msg, FutureWarning)\n",
            "/usr/local/lib/python3.6/dist-packages/seaborn/distributions.py:2551: FutureWarning: `distplot` is a deprecated function and will be removed in a future version. Please adapt your code to use either `displot` (a figure-level function with similar flexibility) or `histplot` (an axes-level function for histograms).\n",
            "  warnings.warn(msg, FutureWarning)\n"
          ],
          "name": "stderr"
        },
        {
          "output_type": "execute_result",
          "data": {
            "text/plain": [
              "Text(0.5, 1.0, 'Scaled Data')"
            ]
          },
          "metadata": {
            "tags": []
          },
          "execution_count": 0
        },
        {
          "output_type": "display_data",
          "data": {
            "image/png": "[encoded data removed]",
            "text/plain": [
              "<Figure size 432x288 with 2 Axes>"
            ]
          },
          "metadata": {
            "tags": []
          }
        }
      ]
    }
  ]
}